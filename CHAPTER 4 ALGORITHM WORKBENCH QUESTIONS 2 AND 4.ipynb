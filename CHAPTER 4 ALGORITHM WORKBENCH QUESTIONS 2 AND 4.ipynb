{
 "cells": [
  {
   "cell_type": "markdown",
   "id": "0ba3dbe9",
   "metadata": {},
   "source": [
    "# QUESTION 2\n",
    "WRITE A while LOOP THAT ASK THE USER TO ENTER TWO NUMBERS. THE NUMBERS SHOULD BE ADDED AND THE SUM DISPLAYED. THE LOOP SHOULD ASK THE USER IF HE OR SHE WISHES TO PERFORM THE OPERTAION AGAIN. IF SO, THE LOOP SHOULD REPEAT, OTHERWISE IT SHOULD TERMINATE"
   ]
  },
  {
   "cell_type": "code",
   "execution_count": 1,
   "id": "c1bc3ef5",
   "metadata": {},
   "outputs": [],
   "source": [
    "# This program will calulate two numbers\n",
    "# Create variable to control the loop\n",
    "# User enters the numbers\n",
    "# Display sum of numbers\n",
    "# Ask user if they want to do another one if not program should terminate"
   ]
  },
  {
   "cell_type": "code",
   "execution_count": 2,
   "id": "bdaad024",
   "metadata": {},
   "outputs": [],
   "source": [
    "# Create Variable to control the loop\n",
    "keep_going = 'y'"
   ]
  },
  {
   "cell_type": "code",
   "execution_count": 4,
   "id": "6179fc05",
   "metadata": {},
   "outputs": [
    {
     "name": "stdout",
     "output_type": "stream",
     "text": [
      "Enter a number: 45\n",
      "Enter a number: 34\n"
     ]
    }
   ],
   "source": [
    "# User enters the numbers\n",
    "number1 = float(input('Enter a number: '))\n",
    "number2 = float(input('Enter a number: '))"
   ]
  },
  {
   "cell_type": "code",
   "execution_count": 5,
   "id": "f076bf38",
   "metadata": {},
   "outputs": [],
   "source": [
    "# Display sum of numbers\n",
    "sum = number1 + number2"
   ]
  },
  {
   "cell_type": "code",
   "execution_count": 8,
   "id": "9b21bc27",
   "metadata": {},
   "outputs": [
    {
     "name": "stdout",
     "output_type": "stream",
     "text": [
      "The sum of the numbers you entered the following: 79.0\n"
     ]
    }
   ],
   "source": [
    "print(f'The sum of the numbers you entered the following: {sum:}')"
   ]
  },
  {
   "cell_type": "code",
   "execution_count": 9,
   "id": "57012c18",
   "metadata": {},
   "outputs": [
    {
     "ename": "SyntaxError",
     "evalue": "unterminated string literal (detected at line 2) (183330090.py, line 2)",
     "output_type": "error",
     "traceback": [
      "\u001b[1;36m  Cell \u001b[1;32mIn[9], line 2\u001b[1;36m\u001b[0m\n\u001b[1;33m    keep_going = input( Do you want to calculate two more numbers? ' +' (Enter y for yes): ')\u001b[0m\n\u001b[1;37m                                                                                           ^\u001b[0m\n\u001b[1;31mSyntaxError\u001b[0m\u001b[1;31m:\u001b[0m unterminated string literal (detected at line 2)\n"
     ]
    }
   ],
   "source": [
    "# ask user if they want to enter another set of numbers\n",
    "keep_going = input( Do you want to calculate two more numbers? ' +' (Enter y for yes): ')"
   ]
  },
  {
   "cell_type": "code",
   "execution_count": null,
   "id": "458913ff",
   "metadata": {},
   "outputs": [],
   "source": []
  }
 ],
 "metadata": {
  "kernelspec": {
   "display_name": "Python 3 (ipykernel)",
   "language": "python",
   "name": "python3"
  },
  "language_info": {
   "codemirror_mode": {
    "name": "ipython",
    "version": 3
   },
   "file_extension": ".py",
   "mimetype": "text/x-python",
   "name": "python",
   "nbconvert_exporter": "python",
   "pygments_lexer": "ipython3",
   "version": "3.11.4"
  }
 },
 "nbformat": 4,
 "nbformat_minor": 5
}
