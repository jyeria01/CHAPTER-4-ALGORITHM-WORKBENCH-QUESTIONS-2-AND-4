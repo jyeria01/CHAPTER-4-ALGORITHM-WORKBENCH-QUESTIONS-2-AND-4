{
 "cells": [
  {
   "cell_type": "markdown",
   "id": "25d6061b",
   "metadata": {},
   "source": [
    "# QUESTION 2\n",
    "WRITE A while LOOP THAT ASK THE USER TO ENTER TWO NUMBERS. THE NUMBERS SHOULD BE ADDED AND THE SUM DISPLAYED. THE LOOP SHOULD ASK THE USER IF HE OR SHE WISHES TO PERFORM THE OPERTAION AGAIN. IF SO, THE LOOP SHOULD REPEAT, OTHERWISE IT SHOULD TERMINATE"
   ]
  },
  {
   "cell_type": "code",
   "execution_count": 1,
   "id": "76a7e8bd",
   "metadata": {},
   "outputs": [],
   "source": [
    "# This program will calulate two numbers\n",
    "# Create variable to control the loop\n",
    "# User enters the numbers\n",
    "# Display sum of numbers\n",
    "# Ask user if they want to do another one if not program should terminate"
   ]
  },
  {
   "cell_type": "code",
   "execution_count": 2,
   "id": "af7c421c",
   "metadata": {},
   "outputs": [],
   "source": [
    "# Create Variable to control the loop\n",
    "keep_going = 'y'"
   ]
  },
  {
   "cell_type": "code",
   "execution_count": 4,
   "id": "a6ac0e2b",
   "metadata": {},
   "outputs": [
    {
     "name": "stdout",
     "output_type": "stream",
     "text": [
      "Enter a number: 45\n",
      "Enter a number: 34\n"
     ]
    }
   ],
   "source": [
    "# User enters the numbers\n",
    "number1 = float(input('Enter a number: '))\n",
    "number2 = float(input('Enter a number: '))"
   ]
  },
  {
   "cell_type": "code",
   "execution_count": null,
   "id": "b7d06c1b",
   "metadata": {},
   "outputs": [],
   "source": []
  }
 ],
 "metadata": {
  "kernelspec": {
   "display_name": "Python 3 (ipykernel)",
   "language": "python",
   "name": "python3"
  },
  "language_info": {
   "codemirror_mode": {
    "name": "ipython",
    "version": 3
   },
   "file_extension": ".py",
   "mimetype": "text/x-python",
   "name": "python",
   "nbconvert_exporter": "python",
   "pygments_lexer": "ipython3",
   "version": "3.11.4"
  }
 },
 "nbformat": 4,
 "nbformat_minor": 5
}
