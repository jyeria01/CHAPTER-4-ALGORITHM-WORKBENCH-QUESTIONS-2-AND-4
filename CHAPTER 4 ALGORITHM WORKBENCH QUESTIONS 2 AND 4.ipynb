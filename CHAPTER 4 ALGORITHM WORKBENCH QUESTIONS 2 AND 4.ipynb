{
 "cells": [
  {
   "cell_type": "markdown",
   "id": "746d0dae",
   "metadata": {},
   "source": [
    "# QUESTION 2\n",
    "WRITE A while LOOP THAT ASK THE USER TO ENTER TWO NUMBERS. THE NUMBERS SHOULD BE ADDED AND THE SUM DISPLAYED. THE LOOP SHOULD ASK THE USER IF HE OR SHE WISHES TO PERFORM THE OPERTAION AGAIN. IF SO, THE LOOP SHOULD REPEAT, OTHERWISE IT SHOULD TERMINATE"
   ]
  },
  {
   "cell_type": "code",
   "execution_count": 1,
   "id": "7616518d",
   "metadata": {},
   "outputs": [],
   "source": [
    "# This program will calulate two numbers\n",
    "# Create variable to control the loop\n",
    "# User enters the numbers\n",
    "# Display sum of numbers\n",
    "# Ask user if they want to do another one if not program should terminate"
   ]
  },
  {
   "cell_type": "code",
   "execution_count": 2,
   "id": "0740e073",
   "metadata": {},
   "outputs": [
    {
     "name": "stdout",
     "output_type": "stream",
     "text": [
      "Enter a number: 34\n",
      "Enter a number: 35\n",
      "The sum of the numbers you entered the following: 69.0\n",
      "Do you want to calculate two more numbers?  (Enter y for yes): y\n",
      "Enter a number: 42\n",
      "Enter a number: 51\n",
      "The sum of the numbers you entered the following: 93.0\n",
      "Do you want to calculate two more numbers?  (Enter y for yes): y\n",
      "Enter a number: 123456\n",
      "Enter a number: 78910\n",
      "The sum of the numbers you entered the following: 202366.0\n",
      "Do you want to calculate two more numbers?  (Enter y for yes): n\n"
     ]
    }
   ],
   "source": [
    "# Create Variable to control the loop\n",
    "keep_going = 'y'\n",
    "\n",
    "while keep_going == 'y':\n",
    "\n",
    "# User enters the numbers\n",
    "    number1 = float(input('Enter a number: '))\n",
    "    number2 = float(input('Enter a number: '))\n",
    "\n",
    "# Display sum of numbers\n",
    "    sum = number1 + number2\n",
    "\n",
    "    print(f'The sum of the numbers you entered the following: {sum:}')\n",
    "\n",
    "# ask user if they want to enter another set of numbers\n",
    "    keep_going = input('Do you want to calculate two more numbers? ' +' (Enter y for yes): ')"
   ]
  },
  {
   "cell_type": "markdown",
   "id": "282e71bb",
   "metadata": {},
   "source": [
    "# QUESTION 4\n",
    "WRITE A LOOP THAT ASK THE USER TO ENTER A NUMBER. THE LOOP SHOULD ITERATE 10 TIMES AND KEEP A RUNNING TOTAL OF THE NUMBERS ENTERED"
   ]
  },
  {
   "cell_type": "code",
   "execution_count": 3,
   "id": "e6142e3b",
   "metadata": {},
   "outputs": [],
   "source": [
    "# THE MAX NUMBER OF ITERATIONS\n",
    "# INITIALIZE THE TOTAL TO 0.0\n",
    "# ASK USER TO ENTER A NUMBER\n",
    "# ADD THE NUMBER ENTERED TO THE TOTAL\n",
    "# DISPLAY TOTAL"
   ]
  },
  {
   "cell_type": "code",
   "execution_count": 4,
   "id": "761c6f09",
   "metadata": {},
   "outputs": [],
   "source": [
    "# THE MAX NUMBER OF INTERATIONS\n",
    "MAX = 10"
   ]
  },
  {
   "cell_type": "code",
   "execution_count": 5,
   "id": "dc91da49",
   "metadata": {},
   "outputs": [],
   "source": [
    "# INITIALIZE TOTAL TO 0.0\n",
    "total = 0.0"
   ]
  },
  {
   "cell_type": "code",
   "execution_count": 10,
   "id": "92281a3d",
   "metadata": {},
   "outputs": [
    {
     "name": "stdout",
     "output_type": "stream",
     "text": [
      "This program calculates the sum of 10 numbers you will enter.\n"
     ]
    }
   ],
   "source": [
    "# Explanation that program will calculate the 10 numbers entered\n",
    "print('This program calculates the sum of ', end='')\n",
    "print(f'{MAX} numbers you will enter.')"
   ]
  },
  {
   "cell_type": "code",
   "execution_count": 12,
   "id": "07be3782",
   "metadata": {},
   "outputs": [
    {
     "name": "stdout",
     "output_type": "stream",
     "text": [
      "Enter a number: 10\n",
      "Enter a number: 100\n",
      "Enter a number: 85\n",
      "Enter a number: 45\n",
      "Enter a number: 24\n",
      "Enter a number: 99\n",
      "Enter a number: 13\n",
      "Enter a number: 41\n",
      "Enter a number: 40\n",
      "Enter a number: 63\n"
     ]
    }
   ],
   "source": [
    "# Ask users to enter a number and add them\n",
    "for counter in range(MAX):\n",
    "    number = int(input('Enter a number: '))\n",
    "    total = total + number"
   ]
  },
  {
   "cell_type": "code",
   "execution_count": null,
   "id": "a22ab23c",
   "metadata": {},
   "outputs": [],
   "source": []
  }
 ],
 "metadata": {
  "kernelspec": {
   "display_name": "Python 3 (ipykernel)",
   "language": "python",
   "name": "python3"
  },
  "language_info": {
   "codemirror_mode": {
    "name": "ipython",
    "version": 3
   },
   "file_extension": ".py",
   "mimetype": "text/x-python",
   "name": "python",
   "nbconvert_exporter": "python",
   "pygments_lexer": "ipython3",
   "version": "3.11.4"
  }
 },
 "nbformat": 4,
 "nbformat_minor": 5
}
