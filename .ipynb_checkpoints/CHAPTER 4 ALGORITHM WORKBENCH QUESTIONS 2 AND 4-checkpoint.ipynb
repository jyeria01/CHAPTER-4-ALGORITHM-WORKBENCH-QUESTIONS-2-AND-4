{
 "cells": [
  {
   "cell_type": "markdown",
   "id": "4502d93d",
   "metadata": {},
   "source": [
    "# QUESTION 2\n",
    "WRITE A while LOOP THAT ASK THE USER TO ENTER TWO NUMBERS. THE NUMBERS SHOULD BE ADDED AND THE SUM DISPLAYED. THE LOOP SHOULD ASK THE USER IF HE OR SHE WISHES TO PERFORM THE OPERTAION AGAIN. IF SO, THE LOOP SHOULD REPEAT, OTHERWISE IT SHOULD TERMINATE"
   ]
  },
  {
   "cell_type": "code",
   "execution_count": 1,
   "id": "b490c1f3",
   "metadata": {},
   "outputs": [],
   "source": [
    "# This program will calulate two numbers\n",
    "# Create variable to control the loop\n",
    "# User enters the numbers\n",
    "# Display sum of numbers\n",
    "# Ask user if they want to do another one if not program should terminate"
   ]
  },
  {
   "cell_type": "code",
   "execution_count": 2,
   "id": "160fa6e9",
   "metadata": {},
   "outputs": [
    {
     "name": "stdout",
     "output_type": "stream",
     "text": [
      "Enter a number: 34\n",
      "Enter a number: 35\n",
      "The sum of the numbers you entered the following: 69.0\n",
      "Do you want to calculate two more numbers?  (Enter y for yes): y\n",
      "Enter a number: 42\n",
      "Enter a number: 51\n",
      "The sum of the numbers you entered the following: 93.0\n",
      "Do you want to calculate two more numbers?  (Enter y for yes): y\n",
      "Enter a number: 123456\n",
      "Enter a number: 78910\n",
      "The sum of the numbers you entered the following: 202366.0\n",
      "Do you want to calculate two more numbers?  (Enter y for yes): n\n"
     ]
    }
   ],
   "source": [
    "# Create Variable to control the loop\n",
    "keep_going = 'y'\n",
    "\n",
    "while keep_going == 'y':\n",
    "\n",
    "# User enters the numbers\n",
    "    number1 = float(input('Enter a number: '))\n",
    "    number2 = float(input('Enter a number: '))\n",
    "\n",
    "# Display sum of numbers\n",
    "    sum = number1 + number2\n",
    "\n",
    "    print(f'The sum of the numbers you entered the following: {sum:}')\n",
    "\n",
    "# ask user if they want to enter another set of numbers\n",
    "    keep_going = input('Do you want to calculate two more numbers? ' +' (Enter y for yes): ')"
   ]
  },
  {
   "cell_type": "markdown",
   "id": "c4c53e38",
   "metadata": {},
   "source": [
    "# QUESTION 4\n",
    "WRITE A LOOP THAT ASK THE USER TO ENTER A NUMBER. THE LOOP SHOULD ITERATE 10 TIMES AND KEEP A RUNNING TOTAL OF THE NUMBERS ENTERED"
   ]
  },
  {
   "cell_type": "code",
   "execution_count": 3,
   "id": "fc79256f",
   "metadata": {},
   "outputs": [],
   "source": [
    "# THE MAX NUMBER OF ITERATIONS\n",
    "# INITIALIZE THE TOTAL TO 0.0\n",
    "# ASK USER TO ENTER A NUMBER\n",
    "# ADD THE NUMBER ENTERED TO THE TOTAL\n",
    "# DISPLAY TOTAL"
   ]
  },
  {
   "cell_type": "code",
   "execution_count": null,
   "id": "f0b5edd3",
   "metadata": {},
   "outputs": [],
   "source": [
    "# THE MAX NUMBER OF INTERATIONS\n",
    "MAX = 10"
   ]
  }
 ],
 "metadata": {
  "kernelspec": {
   "display_name": "Python 3 (ipykernel)",
   "language": "python",
   "name": "python3"
  },
  "language_info": {
   "codemirror_mode": {
    "name": "ipython",
    "version": 3
   },
   "file_extension": ".py",
   "mimetype": "text/x-python",
   "name": "python",
   "nbconvert_exporter": "python",
   "pygments_lexer": "ipython3",
   "version": "3.11.4"
  }
 },
 "nbformat": 4,
 "nbformat_minor": 5
}
