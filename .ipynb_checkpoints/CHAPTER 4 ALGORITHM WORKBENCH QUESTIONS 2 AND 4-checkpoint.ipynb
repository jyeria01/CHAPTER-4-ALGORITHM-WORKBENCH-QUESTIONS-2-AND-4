{
 "cells": [
  {
   "cell_type": "markdown",
   "id": "ed60aa1b",
   "metadata": {},
   "source": [
    "# QUESTION 2\n",
    "WRITE A while LOOP THAT ASK THE USER TO ENTER TWO NUMBERS. THE NUMBERS SHOULD BE ADDED AND THE SUM DISPLAYED. THE LOOP SHOULD ASK THE USER IF HE OR SHE WISHES TO PERFORM THE OPERTAION AGAIN. IF SO, THE LOOP SHOULD REPEAT, OTHERWISE IT SHOULD TERMINATE"
   ]
  },
  {
   "cell_type": "code",
   "execution_count": 1,
   "id": "5116946e",
   "metadata": {},
   "outputs": [],
   "source": [
    "# This program will calulate two numbers\n",
    "# Create variable to control the loop\n",
    "# User enters the numbers\n",
    "# Display sum of numbers\n",
    "# Ask user if they want to do another one if not program should terminate"
   ]
  },
  {
   "cell_type": "code",
   "execution_count": 2,
   "id": "6d49d522",
   "metadata": {},
   "outputs": [],
   "source": [
    "# Create Variable to control the loop\n",
    "keep_going = 'y'"
   ]
  },
  {
   "cell_type": "code",
   "execution_count": 3,
   "id": "1c1d21b7",
   "metadata": {},
   "outputs": [
    {
     "ename": "SyntaxError",
     "evalue": "incomplete input (3957379006.py, line 3)",
     "output_type": "error",
     "traceback": [
      "\u001b[1;36m  Cell \u001b[1;32mIn[3], line 3\u001b[1;36m\u001b[0m\n\u001b[1;33m    number2 = (float(input('Enter a number: '))\u001b[0m\n\u001b[1;37m                                               ^\u001b[0m\n\u001b[1;31mSyntaxError\u001b[0m\u001b[1;31m:\u001b[0m incomplete input\n"
     ]
    }
   ],
   "source": [
    "# User enters the numbers\n",
    "number1 = float(input('Enter a number: '))\n",
    "number2 = (float(input('Enter a number: '))"
   ]
  },
  {
   "cell_type": "code",
   "execution_count": null,
   "id": "25b69456",
   "metadata": {},
   "outputs": [],
   "source": []
  }
 ],
 "metadata": {
  "kernelspec": {
   "display_name": "Python 3 (ipykernel)",
   "language": "python",
   "name": "python3"
  },
  "language_info": {
   "codemirror_mode": {
    "name": "ipython",
    "version": 3
   },
   "file_extension": ".py",
   "mimetype": "text/x-python",
   "name": "python",
   "nbconvert_exporter": "python",
   "pygments_lexer": "ipython3",
   "version": "3.11.4"
  }
 },
 "nbformat": 4,
 "nbformat_minor": 5
}
