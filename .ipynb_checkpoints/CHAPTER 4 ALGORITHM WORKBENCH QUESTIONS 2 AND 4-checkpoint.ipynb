{
 "cells": [
  {
   "cell_type": "markdown",
   "id": "8f338ad1",
   "metadata": {},
   "source": [
    "# QUESTION 2\n",
    "WRITE A while LOOP THAT ASK THE USER TO ENTER TWO NUMBERS. THE NUMBERS SHOULD BE ADDED AND THE SUM DISPLAYED. THE LOOP SHOULD ASK THE USER IF HE OR SHE WISHES TO PERFORM THE OPERTAION AGAIN. IF SO, THE LOOP SHOULD REPEAT, OTHERWISE IT SHOULD TERMINATE"
   ]
  },
  {
   "cell_type": "code",
   "execution_count": 1,
   "id": "f62116b5",
   "metadata": {},
   "outputs": [],
   "source": [
    "# This program will calulate two numbers\n",
    "# Create variable to control the loop\n",
    "# User enters the numbers\n",
    "# Display sum of numbers\n",
    "# Ask user if they want to do another one if not program should terminate"
   ]
  },
  {
   "cell_type": "code",
   "execution_count": 2,
   "id": "8cca49b9",
   "metadata": {},
   "outputs": [],
   "source": [
    "# Create Variable to control the loop\n",
    "keep_going = 'y'"
   ]
  },
  {
   "cell_type": "code",
   "execution_count": 4,
   "id": "6af1f96c",
   "metadata": {},
   "outputs": [
    {
     "name": "stdout",
     "output_type": "stream",
     "text": [
      "Enter a number: 45\n",
      "Enter a number: 34\n"
     ]
    }
   ],
   "source": [
    "# User enters the numbers\n",
    "number1 = float(input('Enter a number: '))\n",
    "number2 = float(input('Enter a number: '))"
   ]
  },
  {
   "cell_type": "code",
   "execution_count": 5,
   "id": "43327c20",
   "metadata": {},
   "outputs": [],
   "source": [
    "# Display sum of numbers\n",
    "sum = number1 + number2"
   ]
  },
  {
   "cell_type": "code",
   "execution_count": 8,
   "id": "5d196217",
   "metadata": {},
   "outputs": [
    {
     "name": "stdout",
     "output_type": "stream",
     "text": [
      "The sum of the numbers you entered the following: 79.0\n"
     ]
    }
   ],
   "source": [
    "print(f'The sum of the numbers you entered the following: {sum:}')"
   ]
  },
  {
   "cell_type": "code",
   "execution_count": 10,
   "id": "1b0af7c2",
   "metadata": {},
   "outputs": [
    {
     "name": "stdout",
     "output_type": "stream",
     "text": [
      "Do you want to calculate two more numbers?  (Enter y for yes): y\n"
     ]
    }
   ],
   "source": [
    "# ask user if they want to enter another set of numbers\n",
    "keep_going = input('Do you want to calculate two more numbers? ' +' (Enter y for yes): ')"
   ]
  },
  {
   "cell_type": "code",
   "execution_count": null,
   "id": "b2338eff",
   "metadata": {},
   "outputs": [],
   "source": []
  }
 ],
 "metadata": {
  "kernelspec": {
   "display_name": "Python 3 (ipykernel)",
   "language": "python",
   "name": "python3"
  },
  "language_info": {
   "codemirror_mode": {
    "name": "ipython",
    "version": 3
   },
   "file_extension": ".py",
   "mimetype": "text/x-python",
   "name": "python",
   "nbconvert_exporter": "python",
   "pygments_lexer": "ipython3",
   "version": "3.11.4"
  }
 },
 "nbformat": 4,
 "nbformat_minor": 5
}
